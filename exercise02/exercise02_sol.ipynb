{
 "cells": [
  {
   "cell_type": "markdown",
   "id": "619cd606",
   "metadata": {},
   "source": [
    "### Exercise 2 - Numerical Optimization\n",
    "\n",
    "Consider the following nonlinear optimization problem\n",
    "<img src=\"imgs/nlp.png\" alt=\"nlp\" width=\"350\"/>\n"
   ]
  },
  {
   "cell_type": "markdown",
   "id": "f783adbb",
   "metadata": {},
   "source": [
    "Compute the gradients of the objective $f(x, y) = \\frac{1}{2}(x-1)^2 + \\frac{1}{2}(10(y - x^2))^2 + \\frac{1}{2}x^2$ and the constraints $g(x, y) = x + (1-y)^2$ and their Hessian on paper.\n",
    "Write down on paper the Karush-Kuhn-Tucker (KKT) conditions for the above problem. Are these\n",
    "conditions necessary for optimality? Are they sufficient?"
   ]
  },
  {
   "cell_type": "markdown",
   "id": "837e97bb",
   "metadata": {},
   "source": [
    "Gradient of $f(x, y)$\n",
    "\n",
    "$\n",
    "\\nabla f(x,y) = \n",
    " \\begin{bmatrix} \n",
    "2x -1 - 200 xy + 200 x^3 \\\\ \n",
    "100y - 100x^2 \n",
    "\\end{bmatrix}\n",
    "$\n",
    "\n",
    "Hessian of $f(x, y)$\n",
    "\n",
    "$\n",
    "\\nabla^2 f(x,y) = \\begin{bmatrix}\n",
    "2 - 200y + 600 x^2 & -200x \\\\ -200 x & 100\n",
    "\\end{bmatrix}\n",
    "$\n",
    "\n",
    "Gradient of $g(x, y)$\n",
    "\n",
    "$\n",
    "\\nabla g(x,y) \n",
    "= \\begin{bmatrix}\n",
    "1 \\\\ -2 + 2y \n",
    "\\end{bmatrix}\n",
    "$\n",
    "\n",
    "Hessian of $g(x, y)$\n",
    "\n",
    "$\n",
    "\\nabla^2 g(x,y) = \n",
    "\\begin{bmatrix}\n",
    "0 & 0 \\\\ 0 & 2\n",
    "\\end{bmatrix}\n",
    "$ \n",
    "\n",
    "          "
   ]
  },
  {
   "cell_type": "markdown",
   "id": "19065e8f",
   "metadata": {},
   "source": [
    "Lagrangian for this problem: $\\mathcal{L}(x,y,\\lambda) = f(x,y) + \\lambda^\\top g(x,y)$, $\\lambda \\in \\mathbb{R}$\n",
    "\n",
    "KKT conditions (first order necessary conditions):\n",
    "\\begin{align*}\n",
    "\\nabla_{(x,y)} \\mathcal{L}(x^*,y^*,\\lambda^*) = \\nabla f(x^*,y^*) + \\nabla g(x^*,y^*) \\lambda^*  &= 0 \\\\\n",
    "g(x^*,y^*) &= 0\n",
    "\\end{align*}\n",
    "\n",
    "If LICQ holds at $(x^*, y^*)$, the KKT conditions are necessary conditions for optimality, but in general not sufficient.\n",
    "\n",
    "If the problem is additionally convex, they are also sufficient. The given specific problem is not convex, therefore they are not sufficient."
   ]
  },
  {
   "cell_type": "markdown",
   "id": "46b53fe4",
   "metadata": {},
   "source": [
    "Define CasADi functions for $f$ and $g$ and use CasADi to generate the gradient and hessian functions of these two functions."
   ]
  },
  {
   "cell_type": "code",
   "execution_count": 1,
   "id": "68b966d0",
   "metadata": {},
   "outputs": [
    {
     "name": "stdout",
     "output_type": "stream",
     "text": [
      "@1=0.5, (((@1*sq((x-1)))+(@1*sq((10*(y-sq(x))))))+(@1*sq(x)))\n"
     ]
    }
   ],
   "source": [
    "import numpy as np\n",
    "from casadi import SX, Function, sin\n",
    "\n",
    "x = SX.sym('x')\n",
    "y = SX.sym('y')\n",
    "\n",
    "f = 0.5*(x-1)**2 + 0.5*(10*(y-x**2))**2 + 0.5*x**2\n",
    "g = x + (1-y)**2\n",
    "\n",
    "print(f)"
   ]
  },
  {
   "cell_type": "code",
   "execution_count": 2,
   "id": "7a4fa271",
   "metadata": {},
   "outputs": [],
   "source": [
    "from casadi import Function\n",
    "\n",
    "f_fun = Function('f', [x, y], [f])\n",
    "g_fun = Function('g', [x, y], [g])"
   ]
  },
  {
   "cell_type": "code",
   "execution_count": 3,
   "id": "07c506e0",
   "metadata": {},
   "outputs": [
    {
     "data": {
      "text/plain": [
       "Function(g:(i0,i1)->(o0) SXFunction)"
      ]
     },
     "execution_count": 3,
     "metadata": {},
     "output_type": "execute_result"
    }
   ],
   "source": [
    "g_fun"
   ]
  },
  {
   "cell_type": "code",
   "execution_count": 4,
   "id": "eb90a9f4",
   "metadata": {},
   "outputs": [
    {
     "data": {
      "text/plain": [
       "array([[1.]])"
      ]
     },
     "execution_count": 4,
     "metadata": {},
     "output_type": "execute_result"
    }
   ],
   "source": [
    "g_fun(0, 0).full()"
   ]
  },
  {
   "cell_type": "code",
   "execution_count": 5,
   "id": "803ae8ee",
   "metadata": {},
   "outputs": [],
   "source": [
    "from casadi import vertcat, jacobian, hessian\n",
    "\n",
    "z = vertcat(x, y)\n",
    "J_f = jacobian(f, z)\n",
    "J_g = jacobian(g, z)"
   ]
  },
  {
   "cell_type": "code",
   "execution_count": 6,
   "id": "748455a2",
   "metadata": {},
   "outputs": [],
   "source": [
    "H_f, J_f = hessian(f, z)\n",
    "H_g, J_g = hessian(g, z)"
   ]
  },
  {
   "cell_type": "code",
   "execution_count": null,
   "id": "652eb866",
   "metadata": {},
   "outputs": [],
   "source": []
  },
  {
   "cell_type": "code",
   "execution_count": 7,
   "id": "c8dcfba1",
   "metadata": {},
   "outputs": [],
   "source": [
    "H_g_fun = Function('H_g', [z], [H_g])"
   ]
  },
  {
   "cell_type": "code",
   "execution_count": 8,
   "id": "c534a62b",
   "metadata": {},
   "outputs": [
    {
     "data": {
      "text/plain": [
       "array([[1.],\n",
       "       [0.]])"
      ]
     },
     "execution_count": 8,
     "metadata": {},
     "output_type": "execute_result"
    }
   ],
   "source": [
    "J_f_fun = Function('J_f', [x, y], [J_f])\n",
    "J_f_fun(1, 1).full()"
   ]
  },
  {
   "cell_type": "markdown",
   "id": "f5b3eaf3",
   "metadata": {},
   "source": [
    "Solve the above constrained optimization problem using CasADi using the solver `IPOPT`."
   ]
  },
  {
   "cell_type": "code",
   "execution_count": 9,
   "id": "bf100400",
   "metadata": {},
   "outputs": [
    {
     "name": "stdout",
     "output_type": "stream",
     "text": [
      "solver:(x0[2],p[],lbx[2],ubx[2],lbg,ubg,lam_x0[2],lam_g0)->(x[2],f,g,lam_x[2],lam_g,lam_p[]) IpoptInterface\n"
     ]
    }
   ],
   "source": [
    "from casadi import nlpsol\n",
    "\n",
    "nlp = {'x':z, 'f':f, 'g':g}\n",
    "\n",
    "# opts = {'ipopt':{'fixed_variable_treatment':'make_constraint'}}\n",
    "\n",
    "# solver = nlpsol('solver', 'ipopt', nlp, opts)\n",
    "solver = nlpsol('solver', 'ipopt', nlp)\n",
    "\n",
    "print(solver)"
   ]
  },
  {
   "cell_type": "code",
   "execution_count": 10,
   "id": "db19fcf1",
   "metadata": {},
   "outputs": [
    {
     "name": "stdout",
     "output_type": "stream",
     "text": [
      "\n",
      "******************************************************************************\n",
      "This program contains Ipopt, a library for large-scale nonlinear optimization.\n",
      " Ipopt is released as open source code under the Eclipse Public License (EPL).\n",
      "         For more information visit http://projects.coin-or.org/Ipopt\n",
      "******************************************************************************\n",
      "\n",
      "This is Ipopt version 3.12.3, running with linear solver mumps.\n",
      "NOTE: Other linear solvers might be more efficient (see Ipopt documentation).\n",
      "\n",
      "Number of nonzeros in equality constraint Jacobian...:        2\n",
      "Number of nonzeros in inequality constraint Jacobian.:        0\n",
      "Number of nonzeros in Lagrangian Hessian.............:        3\n",
      "\n",
      "Total number of variables............................:        2\n",
      "                     variables with only lower bounds:        0\n",
      "                variables with lower and upper bounds:        0\n",
      "                     variables with only upper bounds:        0\n",
      "Total number of equality constraints.................:        1\n",
      "Total number of inequality constraints...............:        0\n",
      "        inequality constraints with only lower bounds:        0\n",
      "   inequality constraints with lower and upper bounds:        0\n",
      "        inequality constraints with only upper bounds:        0\n",
      "\n",
      "iter    objective    inf_pr   inf_du lg(mu)  ||d||  lg(rg) alpha_du alpha_pr  ls\n",
      "   0  2.5000000e+00 1.00e+00 0.00e+00  -1.0 0.00e+00    -  0.00e+00 0.00e+00   0\n",
      "   1  3.1201050e+00 3.90e-01 3.07e+01  -1.7 1.89e+00    -  1.00e+00 5.00e-01h  2\n",
      "   2  1.2655173e+00 4.44e-02 3.60e+00  -1.7 2.11e-01    -  1.00e+00 1.00e+00f  1\n",
      "   3  1.2933807e+00 1.57e-04 1.38e-01  -1.7 2.60e-02    -  1.00e+00 1.00e+00h  1\n",
      "   4  1.2934668e+00 1.86e-07 1.07e-04  -2.5 4.65e-04    -  1.00e+00 1.00e+00h  1\n",
      "   5  1.2934669e+00 9.00e-14 3.34e-11  -5.7 3.00e-07    -  1.00e+00 1.00e+00h  1\n",
      "\n",
      "Number of Iterations....: 5\n",
      "\n",
      "                                   (scaled)                 (unscaled)\n",
      "Objective...............:   1.2934669039384192e+00    1.2934669039384192e+00\n",
      "Dual infeasibility......:   3.3410829658464536e-11    3.3410829658464536e-11\n",
      "Constraint violation....:   9.0039087297100195e-14    9.0039087297100195e-14\n",
      "Complementarity.........:   0.0000000000000000e+00    0.0000000000000000e+00\n",
      "Overall NLP error.......:   3.3410829658464536e-11    3.3410829658464536e-11\n",
      "\n",
      "\n",
      "Number of objective function evaluations             = 8\n",
      "Number of objective gradient evaluations             = 6\n",
      "Number of equality constraint evaluations            = 8\n",
      "Number of inequality constraint evaluations          = 0\n",
      "Number of equality constraint Jacobian evaluations   = 6\n",
      "Number of inequality constraint Jacobian evaluations = 0\n",
      "Number of Lagrangian Hessian evaluations             = 5\n",
      "Total CPU secs in IPOPT (w/o function evaluations)   =      0.007\n",
      "Total CPU secs in NLP function evaluations           =      0.000\n",
      "\n",
      "EXIT: Optimal Solution Found.\n",
      "      solver  :   t_proc      (avg)   t_wall      (avg)    n_eval\n",
      "       nlp_f  |  21.00us (  2.62us)  24.95us (  3.12us)         8\n",
      "       nlp_g  |  49.00us (  6.12us)  53.86us (  6.73us)         8\n",
      "  nlp_grad_f  |  33.00us (  4.71us)  29.93us (  4.28us)         7\n",
      "  nlp_hess_l  |  20.00us (  4.00us)  18.45us (  3.69us)         5\n",
      "   nlp_jac_g  |  17.00us (  2.43us)  18.70us (  2.67us)         7\n",
      "       total  |   9.68ms (  9.68ms)  10.08ms ( 10.08ms)         1\n"
     ]
    }
   ],
   "source": [
    "r = solver(x0=[-1, 1], lbg=0, ubg=0)"
   ]
  },
  {
   "cell_type": "code",
   "execution_count": 11,
   "id": "4207e7c5",
   "metadata": {},
   "outputs": [
    {
     "data": {
      "text/plain": [
       "{'f': DM(1.29347),\n",
       " 'g': DM(9.00391e-14),\n",
       " 'lam_g': DM(0.817188),\n",
       " 'lam_p': DM([]),\n",
       " 'lam_x': DM([0, 0]),\n",
       " 'x': DM([-0.51811, 0.280202])}"
      ]
     },
     "execution_count": 11,
     "metadata": {},
     "output_type": "execute_result"
    }
   ],
   "source": [
    "r"
   ]
  },
  {
   "cell_type": "code",
   "execution_count": 12,
   "id": "294f13b7",
   "metadata": {},
   "outputs": [
    {
     "name": "stdout",
     "output_type": "stream",
     "text": [
      "x_opt:  [-0.51811, 0.280202]\n"
     ]
    }
   ],
   "source": [
    "x_opt = r['x']\n",
    "lam_g_opt = r['lam_g']\n",
    "\n",
    "print('x_opt: ', x_opt)"
   ]
  },
  {
   "cell_type": "code",
   "execution_count": 13,
   "id": "0a91e4bd",
   "metadata": {},
   "outputs": [
    {
     "data": {
      "text/plain": [
       "(-2.0, 2.0)"
      ]
     },
     "execution_count": 13,
     "metadata": {},
     "output_type": "execute_result"
    },
    {
     "data": {
      "image/png": "[encoded data removed]",
      "text/plain": [
       "<Figure size 432x288 with 2 Axes>"
      ]
     },
     "metadata": {
      "needs_background": "light"
     },
     "output_type": "display_data"
    }
   ],
   "source": [
    "import matplotlib.pyplot as plt\n",
    "from matplotlib import ticker\n",
    "\n",
    "xlims = (-2, 2)\n",
    "ylims = (-2, 2)\n",
    "xs = np.linspace(xlims[0], xlims[1], 500)\n",
    "ys = np.linspace(ylims[0], ylims[1], 500)\n",
    "X, Y = np.meshgrid(xs, ys)\n",
    "\n",
    "Z = 0.5*(X-1)**2 + 0.5*(10*(Y-X**2))**2 + 0.5*X**2\n",
    "\n",
    "fig, ax = plt.subplots()\n",
    "CS = ax.contourf(X, Y, Z, locator=ticker.LogLocator())\n",
    "plt.colorbar(CS)\n",
    "\n",
    "feasible_x = -(1-ys)**2\n",
    "\n",
    "plt.plot(feasible_x, ys, color='w', label='feasible set')\n",
    "plt.plot(x_opt[0], x_opt[1], color='r', marker='o', label='optimum')\n",
    "plt.legend()\n",
    "plt.xlim(xlims)\n",
    "plt.ylim(ylims)"
   ]
  },
  {
   "cell_type": "markdown",
   "id": "60df669a",
   "metadata": {},
   "source": [
    "Make sure that the KKT conditions are satisfied at the solution that you obtain."
   ]
  },
  {
   "cell_type": "code",
   "execution_count": 14,
   "id": "eea4b809",
   "metadata": {},
   "outputs": [
    {
     "data": {
      "text/plain": [
       "Function(nlp_grad:(x[2],p[],lam_f,lam_g)->(f,g,grad_gamma_x[2],grad_gamma_p[]) SXFunction)"
      ]
     },
     "execution_count": 14,
     "metadata": {},
     "output_type": "execute_result"
    }
   ],
   "source": [
    "# solver.get_function()\n",
    "solver.get_function('nlp_grad')"
   ]
  },
  {
   "cell_type": "code",
   "execution_count": 15,
   "id": "f648d88d",
   "metadata": {},
   "outputs": [
    {
     "data": {
      "text/plain": [
       "(DM(1.29347), DM(9.00391e-14), DM([-3.34108e-11, 2.39859e-11]), DM([]))"
      ]
     },
     "execution_count": 15,
     "metadata": {},
     "output_type": "execute_result"
    }
   ],
   "source": [
    "nlp_grad = solver.get_function('nlp_grad')\n",
    "nlp_grad(x_opt, [], 1, lam_g_opt)"
   ]
  },
  {
   "cell_type": "code",
   "execution_count": 16,
   "id": "3a3a1163",
   "metadata": {},
   "outputs": [
    {
     "data": {
      "text/plain": [
       "DM(9.00391e-14)"
      ]
     },
     "execution_count": 16,
     "metadata": {},
     "output_type": "execute_result"
    }
   ],
   "source": [
    "g_fun(x_opt[0], x_opt[1])"
   ]
  }
 ],
 "metadata": {
  "kernelspec": {
   "display_name": "Python 3 (ipykernel)",
   "language": "python",
   "name": "python3"
  },
  "language_info": {
   "codemirror_mode": {
    "name": "ipython",
    "version": 3
   },
   "file_extension": ".py",
   "mimetype": "text/x-python",
   "name": "python",
   "nbconvert_exporter": "python",
   "pygments_lexer": "ipython3",
   "version": "3.8.13"
  }
 },
 "nbformat": 4,
 "nbformat_minor": 5
}
