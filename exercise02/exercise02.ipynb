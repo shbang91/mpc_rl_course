{
 "cells": [
  {
   "cell_type": "markdown",
   "id": "619cd606",
   "metadata": {},
   "source": [
    "### Exercise 2 - Numerical Optimization\n",
    "\n",
    "Consider the following nonlinear optimization problem\n",
    "<img src=\"imgs/nlp.png\" alt=\"nlp\" width=\"350\"/>\n"
   ]
  },
  {
   "cell_type": "markdown",
   "id": "f783adbb",
   "metadata": {},
   "source": [
    "Compute the gradients of the objective $f = \\frac{1}{2}(x-1)^2 + \\frac{1}{2}(10(y - x^2))^2 + \\frac{1}{2}x^2$ and the constraints $g = x + (1-y)^2 = 0$ and their Hessian on paper.\n",
    "Write down on paper the Karush-Kuhn-Tucker (KKT) conditions for the above problem. Are these\n",
    "conditions necessary for optimality? Are they sufficient?"
   ]
  },
  {
   "cell_type": "markdown",
   "id": "46b53fe4",
   "metadata": {},
   "source": [
    "Define CasADi functions for $f$ and $g$ and use CasADi to generate the gradient and hessian functions of these two functions."
   ]
  },
  {
   "cell_type": "code",
   "execution_count": 17,
   "id": "68b966d0",
   "metadata": {},
   "outputs": [
    {
     "name": "stdout",
     "output_type": "stream",
     "text": [
      "@1=0.5, (((@1*sq((x-1)))+(@1*sq((10*(y-sq(x))))))+(@1*sq(x)))\n",
      "(x+sq((1-y)))\n"
     ]
    }
   ],
   "source": [
    "import numpy as np\n",
    "from casadi import SX, Function, sin, jacobian, vertcat, hessian\n",
    "\n",
    "x = SX.sym('x')\n",
    "y = SX.sym('y')\n",
    "\n",
    "f= 0.5 * (x-1)**2 + 0.5*(10*(y-x*x))**2 + 0.5*x**2\n",
    "g= x + (1-y)**2\n",
    "\n",
    "f_func = Function('f', [x, y], [0.5 * (x-1)**2 + 0.5*(10*(y-x*x))**2 + 0.5*x**2])\n",
    "g_func = Function('g', [x, y], [x + (1-y)**2])\n",
    "\n",
    "print(f)\n",
    "print(g)\n",
    "\n",
    "z = vertcat(x, y)\n",
    "\n",
    "f_grad = jacobian(f, z)\n",
    "g_grad = jacobian(g, z)\n",
    "\n",
    "f_hes, f_grad = hessian(f, z)\n",
    "g_hes, g_grad = hessian(g, z)\n",
    "\n"
   ]
  },
  {
   "cell_type": "markdown",
   "id": "f5b3eaf3",
   "metadata": {},
   "source": [
    "Solve the above constrained optimization problem using CasADi using the solver `IPOPT`."
   ]
  },
  {
   "cell_type": "code",
   "execution_count": 32,
   "id": "bf100400",
   "metadata": {},
   "outputs": [
    {
     "name": "stdout",
     "output_type": "stream",
     "text": [
      "s:(x0[2],p[],lbx[2],ubx[2],lbg,ubg,lam_x0[2],lam_g0)->(x[2],f,g,lam_x[2],lam_g,lam_p[]) IpoptInterface\n",
      "This is Ipopt version 3.12.3, running with linear solver mumps.\n",
      "NOTE: Other linear solvers might be more efficient (see Ipopt documentation).\n",
      "\n",
      "Number of nonzeros in equality constraint Jacobian...:        2\n",
      "Number of nonzeros in inequality constraint Jacobian.:        0\n",
      "Number of nonzeros in Lagrangian Hessian.............:        3\n",
      "\n",
      "Total number of variables............................:        2\n",
      "                     variables with only lower bounds:        0\n",
      "                variables with lower and upper bounds:        0\n",
      "                     variables with only upper bounds:        0\n",
      "Total number of equality constraints.................:        1\n",
      "Total number of inequality constraints...............:        0\n",
      "        inequality constraints with only lower bounds:        0\n",
      "   inequality constraints with lower and upper bounds:        0\n",
      "        inequality constraints with only upper bounds:        0\n",
      "\n",
      "iter    objective    inf_pr   inf_du lg(mu)  ||d||  lg(rg) alpha_du alpha_pr  ls\n",
      "   0  5.0500000e+01 0.00e+00 1.00e+02  -1.0 0.00e+00    -  0.00e+00 0.00e+00   0\n",
      "   1  5.1922338e-01 9.61e-01 4.22e-15  -1.0 9.80e-01    -  1.00e+00 1.00e+00f  1\n",
      "   2  6.2279573e+01 1.47e-03 2.30e+02  -1.7 1.04e+00    -  1.00e+00 1.00e+00h  1\n",
      "   3  8.5281623e+00 2.53e-02 6.82e+01  -1.7 3.23e-01    -  1.00e+00 1.00e+00f  1\n",
      "   4  1.5692700e+00 1.12e-02 1.31e+01  -1.7 1.57e-01    -  1.00e+00 1.00e+00f  1\n",
      "   5  1.2932037e+00 1.03e-03 6.88e-01  -1.7 3.71e-02    -  1.00e+00 1.00e+00f  1\n",
      "   6  1.2934643e+00 3.18e-06 1.30e-03  -1.7 1.78e-03    -  1.00e+00 1.00e+00h  1\n",
      "   7  1.2934669e+00 7.73e-12 5.05e-09  -5.7 2.78e-06    -  1.00e+00 1.00e+00h  1\n",
      "\n",
      "Number of Iterations....: 7\n",
      "\n",
      "                                   (scaled)                 (unscaled)\n",
      "Objective...............:   1.2934669039321776e+00    1.2934669039321776e+00\n",
      "Dual infeasibility......:   5.0450472688368109e-09    5.0450472688368109e-09\n",
      "Constraint violation....:   7.7278183852058646e-12    7.7278183852058646e-12\n",
      "Complementarity.........:   0.0000000000000000e+00    0.0000000000000000e+00\n",
      "Overall NLP error.......:   5.0450472688368109e-09    5.0450472688368109e-09\n",
      "\n",
      "\n",
      "Number of objective function evaluations             = 8\n",
      "Number of objective gradient evaluations             = 8\n",
      "Number of equality constraint evaluations            = 8\n",
      "Number of inequality constraint evaluations          = 0\n",
      "Number of equality constraint Jacobian evaluations   = 8\n",
      "Number of inequality constraint Jacobian evaluations = 0\n",
      "Number of Lagrangian Hessian evaluations             = 7\n",
      "Total CPU secs in IPOPT (w/o function evaluations)   =      0.006\n",
      "Total CPU secs in NLP function evaluations           =      0.001\n",
      "\n",
      "EXIT: Optimal Solution Found.\n",
      "           s  :   t_proc      (avg)   t_wall      (avg)    n_eval\n",
      "       nlp_f  |  36.00us (  4.50us)  36.20us (  4.53us)         8\n",
      "       nlp_g  |  64.00us (  8.00us)  57.45us (  7.18us)         8\n",
      "  nlp_grad_f  |  68.00us (  7.56us)  64.76us (  7.20us)         9\n",
      "  nlp_hess_l  |  46.00us (  6.57us)  43.28us (  6.18us)         7\n",
      "   nlp_jac_g  |  50.00us (  5.56us)  49.91us (  5.55us)         9\n",
      "       total  |   7.94ms (  7.94ms)   7.76ms (  7.76ms)         1\n",
      "{'f': DM(1.29347), 'g': DM(7.72782e-12), 'lam_g': DM(0.817188), 'lam_p': DM([]), 'lam_x': DM([0, 0]), 'x': DM([-0.51811, 0.280202])}\n",
      "x_opt:  [-0.51811, 0.280202]\n"
     ]
    }
   ],
   "source": [
    "from casadi import nlpsol\n",
    "\n",
    "nlp = {'x':z, 'f':f, 'g':g}\n",
    "S = nlpsol('s', 'ipopt', nlp)\n",
    "print(S)\n",
    "\n",
    "r = S(x0=[0,1], lbg=0, ubg=0)\n",
    "print(r)\n",
    "\n",
    "x_opt = r['x']\n",
    "lam_g_opt = r['lam_g']\n",
    "print('x_opt: ', x_opt)"
   ]
  },
  {
   "cell_type": "markdown",
   "id": "60df669a",
   "metadata": {},
   "source": [
    "Make sure that the KKT conditions are satisfied at the solution that you obtain."
   ]
  },
  {
   "cell_type": "code",
   "execution_count": 33,
   "id": "eea4b809",
   "metadata": {},
   "outputs": [
    {
     "name": "stdout",
     "output_type": "stream",
     "text": [
      "nlp_grad:(x[2],p[],lam_f,lam_g)->(f,g,grad_gamma_x[2],grad_gamma_p[]) SXFunction\n"
     ]
    }
   ],
   "source": [
    "nlp_grad = S.get_function('nlp_grad')\n",
    "print(nlp_grad)"
   ]
  },
  {
   "cell_type": "code",
   "execution_count": 34,
   "id": "d186fb4f",
   "metadata": {},
   "outputs": [
    {
     "data": {
      "text/plain": [
       "(DM(1.29347), DM(7.72782e-12), DM([-6.65676e-10, 5.04505e-09]), DM([]))"
      ]
     },
     "execution_count": 34,
     "metadata": {},
     "output_type": "execute_result"
    }
   ],
   "source": [
    "nlp_grad(x_opt, [], 1, lam_g_opt)"
   ]
  },
  {
   "cell_type": "code",
   "execution_count": 35,
   "id": "23928938",
   "metadata": {},
   "outputs": [
    {
     "data": {
      "text/plain": [
       "DM(7.72782e-12)"
      ]
     },
     "execution_count": 35,
     "metadata": {},
     "output_type": "execute_result"
    }
   ],
   "source": [
    "g_func(x_opt[0], x_opt[1])"
   ]
  },
  {
   "cell_type": "code",
   "execution_count": null,
   "id": "ee41962d",
   "metadata": {},
   "outputs": [],
   "source": []
  }
 ],
 "metadata": {
  "kernelspec": {
   "display_name": "Python 3 (ipykernel)",
   "language": "python",
   "name": "python3"
  },
  "language_info": {
   "codemirror_mode": {
    "name": "ipython",
    "version": 3
   },
   "file_extension": ".py",
   "mimetype": "text/x-python",
   "name": "python",
   "nbconvert_exporter": "python",
   "pygments_lexer": "ipython3",
   "version": "3.8.13"
  }
 },
 "nbformat": 4,
 "nbformat_minor": 5
}
