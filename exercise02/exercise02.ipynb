{
 "cells": [
  {
   "cell_type": "markdown",
   "id": "619cd606",
   "metadata": {},
   "source": [
    "### Exercise 2 - Numerical Optimization\n",
    "\n",
    "Consider the following nonlinear optimization problem\n",
    "<img src=\"imgs/nlp.png\" alt=\"nlp\" width=\"350\"/>\n"
   ]
  },
  {
   "cell_type": "markdown",
   "id": "f783adbb",
   "metadata": {},
   "source": [
    "Compute the gradients of the objective $f = \\frac{1}{2}(x-1)^2 + \\frac{1}{2}(10(y - x^2))^2 + \\frac{1}{2}x^2$ and the constraints $g = x + (1-y)^2 = 0$ and their Hessian on paper.\n",
    "Write down on paper the Karush-Kuhn-Tucker (KKT) conditions for the above problem. Are these\n",
    "conditions necessary for optimality? Are they sufficient?"
   ]
  },
  {
   "cell_type": "markdown",
   "id": "46b53fe4",
   "metadata": {},
   "source": [
    "Define CasADi functions for $f$ and $g$ and use CasADi to generate the gradient and hessian functions of these two functions."
   ]
  },
  {
   "cell_type": "code",
   "execution_count": 1,
   "id": "68b966d0",
   "metadata": {},
   "outputs": [],
   "source": [
    "import numpy as np\n",
    "from casadi import SX, Function, sin\n",
    "\n",
    "x = SX.sym('x')\n",
    "y = SX.sym('y')\n",
    "\n",
    "# f = ...\n",
    "# g = ...\n"
   ]
  },
  {
   "cell_type": "markdown",
   "id": "f5b3eaf3",
   "metadata": {},
   "source": [
    "Solve the above constrained optimization problem using CasADi using the solver `IPOPT`."
   ]
  },
  {
   "cell_type": "code",
   "execution_count": null,
   "id": "bf100400",
   "metadata": {},
   "outputs": [],
   "source": []
  },
  {
   "cell_type": "markdown",
   "id": "60df669a",
   "metadata": {},
   "source": [
    "Make sure that the KKT conditions are satisfied at the solution that you obtain."
   ]
  },
  {
   "cell_type": "code",
   "execution_count": null,
   "id": "eea4b809",
   "metadata": {},
   "outputs": [],
   "source": []
  }
 ],
 "metadata": {
  "kernelspec": {
   "display_name": "Python 3 (ipykernel)",
   "language": "python",
   "name": "python3"
  },
  "language_info": {
   "codemirror_mode": {
    "name": "ipython",
    "version": 3
   },
   "file_extension": ".py",
   "mimetype": "text/x-python",
   "name": "python",
   "nbconvert_exporter": "python",
   "pygments_lexer": "ipython3",
   "version": "3.8.10"
  }
 },
 "nbformat": 4,
 "nbformat_minor": 5
}
