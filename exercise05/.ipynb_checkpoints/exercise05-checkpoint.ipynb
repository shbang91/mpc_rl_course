{
 "cells": [
  {
   "cell_type": "markdown",
   "id": "a9c5b3b3",
   "metadata": {},
   "source": [
    "### Exercise 5 - Optimal Control Problem Formulations\n",
    "\n",
    "In this exercise we will have a look at the special structures of the optimal control formulations discussed in the class. To this end, we will consider the control of a pendulum. \n",
    "The pendulum position is described by the angle $\\theta$ with corresponding angle velocity $\\omega$ and we can control it by applying a torque $\\tau$. This system can be described by idealized dynamics\n",
    "\\begin{equation}\\label{eq:dynamics}\n",
    "\\begin{aligned}\n",
    "\\dot{\\theta} &= \\omega, \\\\\n",
    "\\dot{\\omega} &= \\sin(\\theta) + \\tau,\n",
    "\\end{aligned}\n",
    "\\end{equation} \n",
    "where for simplicity we are ignoring all units. Defining the state $s=(\\theta, \\omega)$, with control actions $a=\\tau$, our control aim is to swing up the pendulum to the upright position and balancing it there, corresponding to a state of $s_\\mathrm{ref}=(0,0)$. We start with the pendulum hanging down in a rest position, i.e., $\\bar s_0=(\\pi,0)$.\n",
    "\n",
    "We can express this as the discrete time optimal control problem \n",
    "<img src=\"imgs/nlp.png\" alt=\"nlp\" width=\"350\"/>\n",
    "\n",
    "with $Q = \\mathbb{I} $, $Q_N = 10\\cdot \\mathbb{I} $, and $ R = 2$.\n",
    "Here, $x_0,\\ldots, x_N \\in\\mathbb{R}^{2}$, $u_0,\\ldots, u_{N-1} \\in\\mathbb{R}$, and $F(s, a)$ describes the discretized dynamics obtained by applying the explicit RK4 integration scheme to the given continuous time dynamics. The objective expresses our desire to bring the state $s$ close to the origin, while using not too much control effort, as quantified by deviations of the control variable from 0.\n",
    "We will consider different reformulations of this nonlinear optimization problem and analyze their structure.\n"
   ]
  },
  {
   "cell_type": "code",
   "execution_count": 1,
   "id": "1bb30a29",
   "metadata": {},
   "outputs": [],
   "source": [
    "import numpy as np\n",
    "from utils import *\n",
    "from plot_utils import *\n",
    "import matplotlib.pyplot as plt\n",
    "from casadi import SX, vertcat, horzcat, sin, hessian, nlpsol, DM, vertsplit, reshape\n",
    "\n",
    "# horizon\n",
    "N = 50\n",
    "\n",
    "# continuous dynamics\n",
    "ns = 2\n",
    "na = 1\n",
    "\n",
    "theta = SX.sym('theta')\n",
    "omega = SX.sym('omega')\n",
    "a = SX.sym('a')\n",
    "\n",
    "theta_dot = omega\n",
    "omega_dot = sin(theta) + a\n",
    "\n",
    "s = vertcat(theta, omega)\n",
    "s_dot = vertcat(theta_dot, omega_dot)\n",
    "\n",
    "# discrete dynamics\n",
    "dt = 0.1\n",
    "n_steps = 10\n",
    "s_next = integrate_RK4(s, a, s_dot, dt, n_steps)\n",
    "\n",
    "s0_bar = np.array([np.pi, 0])   # initial state\n",
    "\n",
    "# integrator\n",
    "F = Function('F', [s, a], [s_next])\n",
    "\n",
    "# cost\n",
    "stage_cost = Function('stage_cost', [s, a], [s.T @ s + a.T @ a])\n",
    "terminal_cost = Function('terminal_cost', [s], [10 * s.T @ s])"
   ]
  },
  {
   "cell_type": "markdown",
   "id": "ba2bac66",
   "metadata": {},
   "source": [
    "### 5.1 Sequential approach\n",
    "\n",
    "The state variables in the above optimal control problem can be eliminated by means of a forward simulation such that a more compact optimization problem is obtained,\n",
    "\t\\begin{equation}\\label{eq:nlp_seq}\n",
    "\t\\begin{aligned}\n",
    "\t&\\underset{A}{\\min} && \\Phi(A), \\\\\n",
    "\t\\end{aligned} \n",
    "\t\\end{equation}\n",
    "\twith $A = (a_0, \\ldots, a_{N-1})$.\n",
    "\n",
    "Complete the followingd template to formulate $\\Phi(A)$ and set up the above problem, where $F(s_i,a_i)$ is an RK4 integrator with 10~intermediate RK4 steps over a total integration time of $h=0.1$. Use $N=50$ for the discrete time horizon (such that the continuous time horizon is $T=5$) and $\\bar{s}_0=(\\pi,\\,0)$ as initial state. \n",
    "\n",
    "Solve the problem using IPOPT and plot the state and control trajectories in two separate plots. Use $a_i = 0.1, \\,\\, i=0,...,N-1,$ as initial guess. \n",
    "\n",
    "Before solving the problem, compute the Hessian of $\\Phi(A)$ for some non-zero $A$ and plot its sparsity pattern using the command `spy`.\n"
   ]
  },
  {
   "cell_type": "code",
   "execution_count": 2,
   "id": "03b63891",
   "metadata": {},
   "outputs": [
    {
     "data": {
      "text/plain": [
       "<matplotlib.lines.Line2D at 0x7f124a061e50>"
      ]
     },
     "execution_count": 2,
     "metadata": {},
     "output_type": "execute_result"
    },
    {
     "data": {
      "image/png": "[encoded data removed]",
      "text/plain": [
       "<Figure size 432x288 with 1 Axes>"
      ]
     },
     "metadata": {
      "needs_background": "light"
     },
     "output_type": "display_data"
    }
   ],
   "source": [
    "## NLP formulation\n",
    "a_traj = SX.sym('a_traj', N)               # vector of all controls\n",
    "a_traj_init = .1 * np.ones((N, 1))         # intial guess U\n",
    "\n",
    "# build vector of all states dependend on U (only needed for plotting)\n",
    "# should have shape (ns, N+1)\n",
    "s_traj = [s0_bar]\n",
    "\n",
    "s_current = s0_bar\n",
    "cost = 0\n",
    "\n",
    "for i in range(N):\n",
    "    a_current = a_traj[i]\n",
    "#     cost += \n",
    "    \n",
    "#     s_next = \n",
    "    \n",
    "    s_current = s_next\n",
    "    \n",
    "    s_traj.append(s_next) # only needed for plotting\n",
    "\n",
    "# terminal cost\n",
    "# cost += \n",
    "\n",
    "s_traj = horzcat(*s_traj) # only needed for plotting\n",
    "\n",
    "# plot sparsity pattern of the Hessian of the lagrangian\n",
    "(hess, grad) = hessian(cost, a_traj)\n",
    "hess_cost = Function('hess_cost', [a_traj], [hess])\n",
    "\n",
    "plt.figure(1)\n",
    "plt.spy(hess_cost(a_traj_init).full(), markersize=3)"
   ]
  },
  {
   "cell_type": "code",
   "execution_count": 3,
   "id": "8e7f0139",
   "metadata": {},
   "outputs": [
    {
     "name": "stdout",
     "output_type": "stream",
     "text": [
      "\n",
      "******************************************************************************\n",
      "This program contains Ipopt, a library for large-scale nonlinear optimization.\n",
      " Ipopt is released as open source code under the Eclipse Public License (EPL).\n",
      "         For more information visit http://projects.coin-or.org/Ipopt\n",
      "******************************************************************************\n",
      "\n",
      "This is Ipopt version 3.12.3, running with linear solver mumps.\n",
      "NOTE: Other linear solvers might be more efficient (see Ipopt documentation).\n",
      "\n",
      "Number of nonzeros in equality constraint Jacobian...:        0\n",
      "Number of nonzeros in inequality constraint Jacobian.:        0\n",
      "Number of nonzeros in Lagrangian Hessian.............:     1275\n",
      "\n",
      "Total number of variables............................:       50\n",
      "                     variables with only lower bounds:        0\n",
      "                variables with lower and upper bounds:        0\n",
      "                     variables with only upper bounds:        0\n",
      "Total number of equality constraints.................:        0\n",
      "Total number of inequality constraints...............:        0\n",
      "        inequality constraints with only lower bounds:        0\n",
      "   inequality constraints with lower and upper bounds:        0\n",
      "        inequality constraints with only upper bounds:        0\n",
      "\n",
      "iter    objective    inf_pr   inf_du lg(mu)  ||d||  lg(rg) alpha_du alpha_pr  ls\n",
      "   0  6.3604299e+02 0.00e+00 1.62e+01  -1.0 0.00e+00    -  0.00e+00 0.00e+00   0\n",
      "   1  3.2873451e+02 0.00e+00 1.32e+01  -1.0 1.78e+00    -  1.00e+00 1.00e+00f  1\n",
      "   2  2.4434156e+02 0.00e+00 1.88e+01  -1.0 8.17e-01    -  1.00e+00 1.00e+00f  1\n",
      "   3  2.0617939e+02 0.00e+00 6.68e+00  -1.0 5.64e-01    -  1.00e+00 1.00e+00f  1\n",
      "   4  2.0540093e+02 0.00e+00 7.57e+01  -1.0 4.31e-01    -  1.00e+00 1.00e+00f  1\n",
      "   5  1.8294671e+02 0.00e+00 1.01e+01  -1.0 2.09e-01    -  1.00e+00 1.00e+00f  1\n",
      "   6  1.8083217e+02 0.00e+00 2.01e+01  -1.0 1.53e+00    -  1.00e+00 2.50e-01f  3\n",
      "   7  1.7980339e+02 0.00e+00 2.37e-01  -1.0 5.98e-02    -  1.00e+00 1.00e+00f  1\n",
      "   8  1.7976228e+02 0.00e+00 6.09e-01  -1.7 6.18e-02    -  1.00e+00 1.00e+00f  1\n",
      "   9  1.7976154e+02 0.00e+00 2.12e-04  -1.7 8.56e-04    -  1.00e+00 1.00e+00f  1\n",
      "iter    objective    inf_pr   inf_du lg(mu)  ||d||  lg(rg) alpha_du alpha_pr  ls\n",
      "  10  1.7976154e+02 0.00e+00 5.33e-08  -5.7 2.27e-05    -  1.00e+00 1.00e+00f  1\n",
      "  11  1.7976154e+02 0.00e+00 1.49e-12  -8.6 2.62e-10    -  1.00e+00 1.00e+00f  1\n",
      "\n",
      "Number of Iterations....: 11\n",
      "\n",
      "                                   (scaled)                 (unscaled)\n",
      "Objective...............:   1.7976154134302593e+02    1.7976154134302593e+02\n",
      "Dual infeasibility......:   1.4854784069484595e-12    1.4854784069484595e-12\n",
      "Constraint violation....:   0.0000000000000000e+00    0.0000000000000000e+00\n",
      "Complementarity.........:   0.0000000000000000e+00    0.0000000000000000e+00\n",
      "Overall NLP error.......:   1.4854784069484595e-12    1.4854784069484595e-12\n",
      "\n",
      "\n",
      "Number of objective function evaluations             = 18\n",
      "Number of objective gradient evaluations             = 12\n",
      "Number of equality constraint evaluations            = 0\n",
      "Number of inequality constraint evaluations          = 0\n",
      "Number of equality constraint Jacobian evaluations   = 0\n",
      "Number of inequality constraint Jacobian evaluations = 0\n",
      "Number of Lagrangian Hessian evaluations             = 11\n",
      "Total CPU secs in IPOPT (w/o function evaluations)   =      0.012\n",
      "Total CPU secs in NLP function evaluations           =      0.056\n",
      "\n",
      "EXIT: Optimal Solution Found.\n",
      "      solver  :   t_proc      (avg)   t_wall      (avg)    n_eval\n",
      "       nlp_f  |   1.62ms ( 90.00us)   1.61ms ( 89.50us)        18\n",
      "  nlp_grad_f  |   2.25ms (172.69us)   2.25ms (172.85us)        13\n",
      "  nlp_hess_l  |  52.47ms (  4.77ms)  52.19ms (  4.74ms)        11\n",
      "       total  |  69.06ms ( 69.06ms)  66.54ms ( 66.54ms)         1\n"
     ]
    }
   ],
   "source": [
    "# create nlp solver\n",
    "nlp_seq = {'x': a_traj, 'f': cost}\n",
    "solver_seq = nlpsol('solver','ipopt', nlp_seq)\n",
    "\n",
    "# solve nlp\n",
    "sol_seq = solver_seq(x0=a_traj_init)"
   ]
  },
  {
   "cell_type": "code",
   "execution_count": 4,
   "id": "184dae27",
   "metadata": {},
   "outputs": [
    {
     "data": {
      "image/png": "[encoded data removed]",
      "text/plain": [
       "<Figure size 360x576 with 3 Axes>"
      ]
     },
     "metadata": {
      "needs_background": "light"
     },
     "output_type": "display_data"
    }
   ],
   "source": [
    "## visualize solution\n",
    "a_traj_opt_seq = sol_seq['x'].full().T\n",
    "\n",
    "F_s_traj = Function('F_s_traj', [a_traj], [s_traj])\n",
    "s_traj_opt_seq = F_s_traj(a_traj_opt_seq).full()\n",
    "\n",
    "plot_trajectories(s_traj_opt_seq, a_traj_opt_seq, 'sequential approach')"
   ]
  },
  {
   "cell_type": "code",
   "execution_count": null,
   "id": "dad34082",
   "metadata": {},
   "outputs": [],
   "source": []
  },
  {
   "cell_type": "code",
   "execution_count": null,
   "id": "386daa5f",
   "metadata": {},
   "outputs": [],
   "source": []
  },
  {
   "cell_type": "markdown",
   "id": "93012e18",
   "metadata": {},
   "source": [
    "### 5.2 Simultaneous approach\n",
    "\n",
    "If both states and controls are kept as decision variables, a larger problem is obtained with a special sparsity structure that can be exploited by tailored algorithms. \n",
    "\n",
    "Complete the following template to formulate the original optimal control problem without eliminating the state variables, solve it with IPOPT and plot the state and control trajectories. Make sure that you obtain the same result as with the sequential approach. \n",
    "\n",
    "Eliminate the initial state, by fixing it to $s_0 = \\bar{s}_0$ and use $a_i = 0.1, \\,\\, i=0,...,N-1$ and $s_i = (0.1,0.1), \\,\\, i=1,...,N$ as initial guess.\n",
    "\n",
    "efore solving the problem compute the Hessian of the Lagrangian and plot its sparsity pattern using the command `spy`. In order to highlight the block-banded structure of the Hessian, reorder the variables as $[a_0, \\, \\lambda_1, \\, s_1,\\,a_1,\\lambda_2,\\,... \\,, \\lambda_N, \\, s_N,]$. For this last part, you can set the equality multipliers to any arbitrary non-zero value since we are only interested in the sparsity pattern here.\n",
    "        "
   ]
  },
  {
   "cell_type": "code",
   "execution_count": 5,
   "id": "3f1966c3",
   "metadata": {},
   "outputs": [
    {
     "data": {
      "text/plain": [
       "<matplotlib.lines.Line2D at 0x7f1249266310>"
      ]
     },
     "execution_count": 5,
     "metadata": {},
     "output_type": "execute_result"
    },
    {
     "data": {
      "image/png": "[encoded data removed]",
      "text/plain": [
       "<Figure size 360x222.492 with 1 Axes>"
      ]
     },
     "metadata": {
      "needs_background": "light"
     },
     "output_type": "display_data"
    }
   ],
   "source": [
    "## NLP formulation\n",
    "\n",
    "a_traj = SX.sym('a_traj', na*N)            # vector of all controls (0,..,N-1)\n",
    "s_traj = SX.sym('s_traj', ns*N)            # vector of all states (1,..,N)\n",
    "\n",
    "a_traj_init = .1 * np.ones((N, 1))         # intial guess\n",
    "s_traj_init = .1 * np.ones((ns*N, 1))      # intial guess\n",
    "\n",
    "lam_traj = SX.sym('lam_traj', ns*N)        # multiplier (1,..,N)\n",
    "\n",
    "# build cost and constraints\n",
    "s_current = s0_bar\n",
    "constraints = []\n",
    "\n",
    "cost = 0\n",
    "\n",
    "s_traj_per_stage = vertsplit(s_traj, ns)\n",
    "lam_traj_per_stage = vertsplit(lam_traj, ns)\n",
    "\n",
    "z_traj = []\n",
    "\n",
    "# note: you could use the casadi function map to construct the dynamic constraints\n",
    "for i in range(N):\n",
    "    a_current = a_traj[i]\n",
    "    s_next    = s_traj_per_stage[i]    \n",
    "    \n",
    "#     constraints.append(...)\n",
    "#     cost += \n",
    "    \n",
    "    # primal and dual variables in the required order \n",
    "    lam = lam_traj_per_stage[i]\n",
    "    z_traj.extend([a_current, lam, s_next])\n",
    "\n",
    "    s_current = s_next\n",
    "\n",
    "# terminal cost\n",
    "# cost += ...\n",
    "\n",
    "constraints = vertcat(*constraints)\n",
    "z_traj = vertcat(*z_traj)\n",
    "\n",
    "# plot sparsity pattern of the Hessian of the lagrangian\n",
    "# lagrangian = ...\n",
    "\n",
    "(hess, grad) = hessian(lagrangian, z_traj)\n",
    "hess_lagrangian = Function('hess_lagrangian', [z_traj], [hess])\n",
    "\n",
    "plt.figure(1)\n",
    "plt.spy(hess_lagrangian(np.ones(z_traj.shape)).full(), markersize=3)"
   ]
  },
  {
   "cell_type": "code",
   "execution_count": 6,
   "id": "9ae26d15",
   "metadata": {},
   "outputs": [
    {
     "name": "stdout",
     "output_type": "stream",
     "text": [
      "This is Ipopt version 3.12.3, running with linear solver mumps.\n",
      "NOTE: Other linear solvers might be more efficient (see Ipopt documentation).\n",
      "\n",
      "Number of nonzeros in equality constraint Jacobian...:      396\n",
      "Number of nonzeros in inequality constraint Jacobian.:        0\n",
      "Number of nonzeros in Lagrangian Hessian.............:      297\n",
      "\n",
      "Total number of variables............................:      150\n",
      "                     variables with only lower bounds:        0\n",
      "                variables with lower and upper bounds:        0\n",
      "                     variables with only upper bounds:        0\n",
      "Total number of equality constraints.................:      100\n",
      "Total number of inequality constraints...............:        0\n",
      "        inequality constraints with only lower bounds:        0\n",
      "   inequality constraints with lower and upper bounds:        0\n",
      "        inequality constraints with only upper bounds:        0\n",
      "\n",
      "iter    objective    inf_pr   inf_du lg(mu)  ||d||  lg(rg) alpha_du alpha_pr  ls\n",
      "   0  1.1549604e+01 3.04e+00 8.42e-01  -1.0 0.00e+00    -  0.00e+00 0.00e+00   0\n",
      "   1  2.9921181e+02 2.98e-01 2.22e+01  -1.0 6.48e+00    -  1.00e+00 1.00e+00h  1\n",
      "   2  1.7994345e+02 1.12e-03 3.03e-01  -1.0 3.47e+00    -  1.00e+00 1.00e+00f  1\n",
      "   3  1.7976232e+02 7.67e-06 5.32e-04  -1.7 4.86e-02    -  1.00e+00 1.00e+00f  1\n",
      "   4  1.7976154e+02 1.52e-10 2.16e-09  -5.7 1.16e-04    -  1.00e+00 1.00e+00h  1\n",
      "\n",
      "Number of Iterations....: 4\n",
      "\n",
      "                                   (scaled)                 (unscaled)\n",
      "Objective...............:   1.7976154135610147e+02    1.7976154135610147e+02\n",
      "Dual infeasibility......:   2.1563311136674201e-09    2.1563311136674201e-09\n",
      "Constraint violation....:   1.5159451471902230e-10    1.5159451471902230e-10\n",
      "Complementarity.........:   0.0000000000000000e+00    0.0000000000000000e+00\n",
      "Overall NLP error.......:   2.1563311136674201e-09    2.1563311136674201e-09\n",
      "\n",
      "\n",
      "Number of objective function evaluations             = 5\n",
      "Number of objective gradient evaluations             = 5\n",
      "Number of equality constraint evaluations            = 5\n",
      "Number of inequality constraint evaluations          = 0\n",
      "Number of equality constraint Jacobian evaluations   = 5\n",
      "Number of inequality constraint Jacobian evaluations = 0\n",
      "Number of Lagrangian Hessian evaluations             = 4\n",
      "Total CPU secs in IPOPT (w/o function evaluations)   =      0.006\n",
      "Total CPU secs in NLP function evaluations           =      0.005\n",
      "\n",
      "EXIT: Optimal Solution Found.\n",
      "      solver  :   t_proc      (avg)   t_wall      (avg)    n_eval\n",
      "       nlp_f  |  17.00us (  3.40us)  16.65us (  3.33us)         5\n",
      "       nlp_g  | 449.00us ( 89.80us) 447.41us ( 89.48us)         5\n",
      "  nlp_grad_f  |  29.00us (  4.83us)  28.92us (  4.82us)         6\n",
      "  nlp_hess_l  |   2.94ms (735.75us)   2.75ms (686.36us)         4\n",
      "   nlp_jac_g  |   1.78ms (296.33us)   1.77ms (295.32us)         6\n",
      "       total  |  12.89ms ( 12.89ms)  11.54ms ( 11.54ms)         1\n"
     ]
    }
   ],
   "source": [
    "# create nlp solver\n",
    "nlp_sim = {'x': vertcat(s_traj, a_traj), 'f': cost, 'g':constraints}\n",
    "solver_sim = nlpsol('solver','ipopt', nlp_sim)\n",
    "\n",
    "# solve nlp\n",
    "lbg_ubg = np.zeros(constraints.shape)\n",
    "sol_sim = solver_sim(x0=vertcat(s_traj_init, a_traj_init), lbg=lbg_ubg, ubg=lbg_ubg)"
   ]
  },
  {
   "cell_type": "code",
   "execution_count": 7,
   "id": "13ca9825",
   "metadata": {},
   "outputs": [
    {
     "data": {
      "image/png": "[encoded data removed]",
      "text/plain": [
       "<Figure size 360x576 with 3 Axes>"
      ]
     },
     "metadata": {
      "needs_background": "light"
     },
     "output_type": "display_data"
    }
   ],
   "source": [
    "## visualize solution\n",
    "s_a_traj_opt_sim = sol_sim['x'].full().T\n",
    "s_traj_opt_sim = reshape(vertcat(s0_bar, s_a_traj_opt_sim[:, :N*ns].T), (ns, N+1))\n",
    "a_traj_opt_sim = s_a_traj_opt_sim[:, N*ns:]\n",
    "\n",
    "plot_trajectories(s_traj_opt_sim, a_traj_opt_sim, 'simultaneous approach')"
   ]
  },
  {
   "cell_type": "code",
   "execution_count": 8,
   "id": "b34652d6",
   "metadata": {},
   "outputs": [
    {
     "name": "stdout",
     "output_type": "stream",
     "text": [
      "difference in optimal control trajectories: 7.865404e-10\n"
     ]
    }
   ],
   "source": [
    "diff = np.max(np.abs(a_traj_opt_seq - a_traj_opt_sim))\n",
    "print(\"difference in optimal control trajectories: %e\" % (diff))"
   ]
  }
 ],
 "metadata": {
  "kernelspec": {
   "display_name": "Python 3",
   "language": "python",
   "name": "python3"
  },
  "language_info": {
   "codemirror_mode": {
    "name": "ipython",
    "version": 3
   },
   "file_extension": ".py",
   "mimetype": "text/x-python",
   "name": "python",
   "nbconvert_exporter": "python",
   "pygments_lexer": "ipython3",
   "version": "3.8.10"
  }
 },
 "nbformat": 4,
 "nbformat_minor": 5
}
