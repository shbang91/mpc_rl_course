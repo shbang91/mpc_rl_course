{
 "cells": [
  {
   "cell_type": "markdown",
   "id": "c23b0828",
   "metadata": {},
   "source": [
    "### Exercise 1 - Simulation\n",
    "\n",
    "\n",
    "In this exercise, we will get to know the software tool CasADi.\n",
    "\n",
    "We consider a simple inverted pendulum. \n",
    "The system dynamics are given via the ODE:\n",
    "\\begin{equation}\\label{eq:dynamics}\n",
    "\\begin{aligned}\n",
    "&\\dot{\\theta} =&& \\omega \\\\\n",
    "&\\dot{\\omega} =&& \\sin(\\theta) + \\tau,\n",
    "\\end{aligned}\n",
    "\\end{equation} \n",
    "where $\\theta$ is the angle describing the orientation of the pendulum, $\\omega$ is its angular velocity and $\\tau$ is the input torque. \n",
    "\n",
    "\n",
    "\n",
    "\n"
   ]
  },
  {
   "cell_type": "markdown",
   "id": "3d594ad3",
   "metadata": {},
   "source": [
    "### 1.1 Intro to CasADi \n",
    "Check out the CasADi [documentation](https://web.casadi.org/docs/). Make sure you understand the difference between a CasADi expression and a CasADi function.\n",
    "\n",
    "Define the continuous time model in terms of CasADi SX expressions."
   ]
  },
  {
   "cell_type": "code",
   "execution_count": 17,
   "id": "3707b0f6",
   "metadata": {},
   "outputs": [],
   "source": [
    "from casadi import *\n",
    "import numpy as np\n",
    "\n",
    "# continuous model dynamics \n",
    "\n",
    "n_s = 2  # number of states\n",
    "n_a = 1  # number of actions\n",
    "\n",
    "theta = SX.sym('theta')\n",
    "omega = SX.sym('omega')\n",
    "\n",
    "tau = SX.sym('tau')\n",
    "\n",
    "# FILL IN YOUR CODE HERE\n",
    "theta_dot = omega\n",
    "omega_dot = sin(theta)+tau\n",
    "\n",
    "s = vertcat(theta, omega)\n",
    "s_dot = vertcat(theta_dot, omega_dot)"
   ]
  },
  {
   "cell_type": "markdown",
   "id": "5903bc09",
   "metadata": {},
   "source": [
    "### 1.2 Differentation\n",
    "\n",
    "Use the CasADi function `jacobian` to obtain two CasADi functions that compute the Jacobian of the continuous time dynamics with respect to states and actions respectively.\n",
    "\n",
    "Use these functions to evaluate the Jacobians at the steady state $(0, 0)$.\n",
    "\n",
    "What is the return type of the casadi function? How can you cast it to a numpy array? \n",
    "\n",
    "What is its sparsity pattern of the Jacobians? "
   ]
  },
  {
   "cell_type": "code",
   "execution_count": 24,
   "id": "0037f91b",
   "metadata": {},
   "outputs": [
    {
     "name": "stdout",
     "output_type": "stream",
     "text": [
      "Jacobian w.r.t. s at the steady state\n",
      "\n",
      "[[00, 1], \n",
      " [1, 00]]\n",
      "Jacobian w.r.t. a at the steady state\n",
      "[00, 1]\n",
      "<class 'casadi.casadi.DM'>\n",
      "<class 'numpy.ndarray'>\n",
      "sparsity pattern of the Jacobian w.r.t. s at the steady state\n",
      ".*\n",
      "*.\n",
      ".\n",
      "*\n"
     ]
    }
   ],
   "source": [
    "# FILL IN YOUR CODE HERE\n",
    "# jacobian functions \n",
    "J_s_expr = jacobian(s_dot, s)\n",
    "J_a_expr = jacobian(s_dot, tau)\n",
    "\n",
    "J_s = Function('J_s', [s, tau], [J_s_expr])\n",
    "J_a = Function('J_a', [s, tau], [J_a_expr])\n",
    "\n",
    "\n",
    "# evaluate at steady state\n",
    "s_steady = np.zeros((n_s, 1))\n",
    "a_steady = np.zeros((n_a, 1))\n",
    "                    \n",
    "print('Jacobian w.r.t. s at the steady state')\n",
    "# FILL IN YOUR CODE HERE\n",
    "print(J_s(s_steady, a_steady))\n",
    "\n",
    "print('Jacobian w.r.t. a at the steady state')\n",
    "# FILL IN YOUR CODE HERE\n",
    "print(J_a(s_steady, a_steady))\n",
    "\n",
    "print(type(J_s(s_steady, a_steady)))\n",
    "print(type((J_s(s_steady, a_steady)).full()))\n",
    "\n",
    "# sparsity \n",
    "\n",
    "# FILL IN YOUR CODE HERE\n",
    "sparsity_J_s = J_s(s_steady, a_steady).sparsity()\n",
    "\n",
    "print('sparsity pattern of the Jacobian w.r.t. s at the steady state')\n",
    "sparsity_J_s.spy()\n",
    "\n",
    "# check J_a sparsity as well\n",
    "sparsity_J_a = J_a(s_steady, a_steady).sparsity()\n",
    "sparsity_J_a.spy()"
   ]
  },
  {
   "cell_type": "markdown",
   "id": "e804d720",
   "metadata": {},
   "source": [
    "### 1.3 From continuos-time to discrete-time\n",
    "\n",
    "We would like to build the discrete time dynamic system from the continuous time ODE using one RK4 step. "
   ]
  },
  {
   "cell_type": "code",
   "execution_count": 25,
   "id": "7fc0622a",
   "metadata": {},
   "outputs": [],
   "source": [
    "def integrate_RK4(s_expr, a_expr, sdot_expr, dt, N_steps=1):\n",
    "    '''RK4 integrator.\n",
    "    \n",
    "    s_expr, a_expr: casadi expression that have been used to define the dynamics sdot_expr\n",
    "    sdot_expr:      casadi expr defining the rhs of the ode\n",
    "    dt:             integration interval\n",
    "    N_steps:        number of integration steps per integration interval, default:1\n",
    "    '''\n",
    "\n",
    "    h = dt/N_steps\n",
    "\n",
    "    s_end = s_expr\n",
    "\n",
    "    xdot_fun = Function('xdot', [s_expr, a_expr], [sdot_expr])\n",
    "\n",
    "    for _ in range(N_steps):\n",
    "\n",
    "    # FILL IN YOUR CODE HERE\n",
    "        v_1 = xdot_fun(s_end, a_expr)\n",
    "        v_2 = xdot_fun(s_end + 0.5 * h * v_1, a_expr)\n",
    "        v_3 = xdot_fun(s_end + 0.5 * h * v_2, a_expr)\n",
    "        v_4 = xdot_fun(s_end + h * v_3, a_expr)\n",
    "\n",
    "        s_end = s_end + h / 6 * (v_1 + 2*v_2 + 2*v_3 + v_4)\n",
    "    \n",
    "    F_expr = s_end\n",
    "\n",
    "    return F_expr"
   ]
  },
  {
   "cell_type": "markdown",
   "id": "4282aa29",
   "metadata": {},
   "source": [
    "We can now use this RK4 integrator to obtain a discrete time system describin the dynamics of the inverted pendulum dynamics."
   ]
  },
  {
   "cell_type": "code",
   "execution_count": 33,
   "id": "31f2cacd",
   "metadata": {},
   "outputs": [
    {
     "data": {
      "text/plain": [
       "Function(F_discrete:(i0[2],i1)->(o0[2]) SXFunction)"
      ]
     },
     "execution_count": 33,
     "metadata": {},
     "output_type": "execute_result"
    }
   ],
   "source": [
    "dt = 0.1    \n",
    "N_steps = 5\n",
    "\n",
    "# FILL IN YOUR CODE HERE\n",
    "F_discrete = Function('F_discrete', [s, tau], [integrate_RK4(s, tau, s_dot, dt, N_steps)])\n",
    "F_discrete"
   ]
  },
  {
   "cell_type": "markdown",
   "id": "d02d096c",
   "metadata": {},
   "source": [
    "### 1.4 Simulation\n",
    "\n",
    "Complete the following template to simulate the system forward in time starting from the initial state $s_0=(\\pi/2, 0)$ with constant input $a_k=0$, $ k=0, \\ldots, 200$.\n",
    "What do you observe?\n"
   ]
  },
  {
   "cell_type": "code",
   "execution_count": 38,
   "id": "e1ce34c2",
   "metadata": {},
   "outputs": [],
   "source": [
    "N = 200\n",
    "\n",
    "# state and (constant) action trajectories\n",
    "s_traj  = np.zeros((n_s, N+1))\n",
    "a_traj  = 1*np.ones((n_a, N))\n",
    "\n",
    "# initial state\n",
    "s0 = np.array([np.pi/2, 0.])\n",
    "\n",
    "s_traj[:, 0]  = s0\n",
    "\n",
    "# forward simulation\n",
    "for n in range(N):\n",
    "    s0 = s_traj[:, n]\n",
    "    a0 = a_traj[:, n]\n",
    "    # FILL IN YOUR CODE HERE    \n",
    "    s_traj[:, [n+1]] = F_discrete(s0,a0).full()"
   ]
  },
  {
   "cell_type": "code",
   "execution_count": 39,
   "id": "3bf6e0b0",
   "metadata": {},
   "outputs": [
    {
     "data": {
      "image/png": "[encoded data removed]",
      "text/plain": [
       "<Figure size 500x800 with 3 Axes>"
      ]
     },
     "metadata": {},
     "output_type": "display_data"
    }
   ],
   "source": [
    "from plot_utils import plot_trajectories\n",
    "import matplotlib.pyplot as plt\n",
    "\n",
    "plot_trajectories(s_traj, a_traj, 'simulated')"
   ]
  },
  {
   "cell_type": "code",
   "execution_count": null,
   "id": "76f93973",
   "metadata": {},
   "outputs": [],
   "source": []
  }
 ],
 "metadata": {
  "kernelspec": {
   "display_name": "Python 3 (ipykernel)",
   "language": "python",
   "name": "python3"
  },
  "language_info": {
   "codemirror_mode": {
    "name": "ipython",
    "version": 3
   },
   "file_extension": ".py",
   "mimetype": "text/x-python",
   "name": "python",
   "nbconvert_exporter": "python",
   "pygments_lexer": "ipython3",
   "version": "3.8.13"
  }
 },
 "nbformat": 4,
 "nbformat_minor": 5
}
