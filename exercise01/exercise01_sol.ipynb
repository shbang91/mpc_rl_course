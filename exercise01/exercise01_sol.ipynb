{
 "cells": [
  {
   "cell_type": "markdown",
   "id": "51c31adb",
   "metadata": {},
   "source": [
    "### Exercise 1 - Simulation\n",
    "\n",
    "\n",
    "In this exercise, we will get to know the software tool CasADi.\n",
    "\n",
    "We consider a simple inverted pendulum. \n",
    "The system dynamics are given via the ODE:\n",
    "\\begin{align}\n",
    "\\dot{\\theta} =& \\omega \\\\\n",
    "\\dot{\\omega} =& \\sin(\\theta) + \\tau,\n",
    "\\end{align}\n",
    "where $\\theta$ is the angle describing the orientation of the pendulum, $\\omega$ is its angular velocity and $\\tau$ is the input torque. \n",
    "\n"
   ]
  },
  {
   "cell_type": "markdown",
   "id": "ec4afa84",
   "metadata": {},
   "source": []
  },
  {
   "cell_type": "code",
   "execution_count": 1,
   "id": "e062f8ba",
   "metadata": {},
   "outputs": [],
   "source": [
    "from casadi import *\n",
    "\n",
    "theta = SX.sym('theta', 1, 1)\n",
    "omega = SX.sym('omega')"
   ]
  },
  {
   "cell_type": "code",
   "execution_count": 2,
   "id": "644d4ea2",
   "metadata": {},
   "outputs": [],
   "source": [
    "expr = theta**2 + omega**2"
   ]
  },
  {
   "cell_type": "code",
   "execution_count": 3,
   "id": "ca394e7e",
   "metadata": {},
   "outputs": [],
   "source": [
    "J = jacobian(expr, theta)"
   ]
  },
  {
   "cell_type": "code",
   "execution_count": 4,
   "id": "228f9685",
   "metadata": {},
   "outputs": [],
   "source": [
    "J_fun = Function('J_F', [theta, omega], [J])"
   ]
  },
  {
   "cell_type": "code",
   "execution_count": 5,
   "id": "fd3b5d6b",
   "metadata": {},
   "outputs": [
    {
     "data": {
      "text/plain": [
       "SX(@1=sin(theta), (@1+@1))"
      ]
     },
     "execution_count": 5,
     "metadata": {},
     "output_type": "execute_result"
    }
   ],
   "source": [
    "J_fun(sin(theta), omega)"
   ]
  },
  {
   "cell_type": "markdown",
   "id": "88661cfd",
   "metadata": {},
   "source": [
    "### 1.1 Intro to CasADi \n",
    "Check out the CasADi [documentation](https://web.casadi.org/docs/). Make sure you understand the difference between a CasADi expression and a CasADi functionCasADi. Check out the CasADi [documentation](https://web.casadi.org/docs/). Make sure you understand the difference between a CasADi expression and a CasADi function.\n",
    "\n",
    "Define the continuous time model in terms of CasADi SX expressions."
   ]
  },
  {
   "cell_type": "code",
   "execution_count": 6,
   "id": "e19c85e8",
   "metadata": {},
   "outputs": [],
   "source": [
    "from casadi import *\n",
    "import numpy as np\n",
    "\n",
    "# continuous model dynamics \n",
    "\n",
    "n_s = 2  # number of states\n",
    "n_a = 1  # number of actions\n",
    "\n",
    "theta = SX.sym('theta')\n",
    "omega = SX.sym('omega')\n",
    "\n",
    "tau = SX.sym('tau')\n",
    "\n",
    "theta_dot = omega\n",
    "omega_dot = sin(theta) + tau\n",
    "\n",
    "s = vertcat(theta, omega)\n",
    "s_dot = vertcat(theta_dot, omega_dot)"
   ]
  },
  {
   "cell_type": "code",
   "execution_count": 7,
   "id": "ef1db596",
   "metadata": {},
   "outputs": [
    {
     "data": {
      "text/plain": [
       "SX([omega, (sin(theta)+tau)])"
      ]
     },
     "execution_count": 7,
     "metadata": {},
     "output_type": "execute_result"
    }
   ],
   "source": [
    "s_dot"
   ]
  },
  {
   "cell_type": "markdown",
   "id": "ad71a90b",
   "metadata": {},
   "source": [
    "### 1.2 Differentation\n",
    "\n",
    "Use the CasADi function `jacobian` to obtain two CasADi functions that compute the Jacobian of the continuous time dynamics with respect to states and actions respectively.\n",
    "\n",
    "Use these functions to evaluate the Jacobians at the steady state $(0, 0)$.\n",
    "\n",
    "What is the return type of the casadi function? How can you cast it to a numpy array? \n",
    "\n",
    "What is its sparsity pattern of the Jacobians? "
   ]
  },
  {
   "cell_type": "code",
   "execution_count": 8,
   "id": "5e670eef",
   "metadata": {},
   "outputs": [
    {
     "name": "stdout",
     "output_type": "stream",
     "text": [
      "Jacobian w.r.t. s at the steady state\n",
      "\n",
      "[[00, 1], \n",
      " [1, 00]]\n",
      "Jacobian w.r.t. a at the steady state\n",
      "[00, 1]\n"
     ]
    }
   ],
   "source": [
    "# jacobian functions \n",
    "J_s_expr = jacobian(s_dot, s)\n",
    "J_a_expr = jacobian(s_dot, tau)\n",
    "\n",
    "J_s = Function('jac_states', [s, tau], [J_s_expr])\n",
    "J_a = Function('jac_actions', [s, tau], [J_a_expr])\n",
    "\n",
    "# evaluate at steady state\n",
    "s_steady = np.zeros((n_s, 1))\n",
    "a_steady = np.zeros((n_a, 1))\n",
    "                    \n",
    "print('Jacobian w.r.t. s at the steady state')\n",
    "print(J_s(s_steady, a_steady))\n",
    "\n",
    "print('Jacobian w.r.t. a at the steady state')\n",
    "print(J_a(s_steady, a_steady))    \n",
    "# return type is DM, use .full() to get a numpy array"
   ]
  },
  {
   "cell_type": "code",
   "execution_count": 9,
   "id": "7f70818b",
   "metadata": {},
   "outputs": [
    {
     "data": {
      "text/plain": [
       "array([[0.],\n",
       "       [1.]])"
      ]
     },
     "execution_count": 9,
     "metadata": {},
     "output_type": "execute_result"
    }
   ],
   "source": [
    "J_a(s_steady, a_steady).full()"
   ]
  },
  {
   "cell_type": "code",
   "execution_count": 10,
   "id": "b9e610b6",
   "metadata": {},
   "outputs": [
    {
     "name": "stdout",
     "output_type": "stream",
     "text": [
      "sparsity pattern of the Jacobian w.r.t. s at the steady state\n",
      ".*\n",
      "*.\n"
     ]
    }
   ],
   "source": [
    "# sparsity \n",
    "sparsity_J_s = J_s(s_steady, a_steady).sparsity()\n",
    "\n",
    "print('sparsity pattern of the Jacobian w.r.t. s at the steady state')\n",
    "sparsity_J_s.spy()"
   ]
  },
  {
   "cell_type": "markdown",
   "id": "f7cd82ad",
   "metadata": {},
   "source": [
    "### 1.3 From continuos-time to discrete-time\n",
    "\n",
    "We would like to build the discrete time dynamic system from the continuous time ODE using one RK4 step. "
   ]
  },
  {
   "cell_type": "code",
   "execution_count": 11,
   "id": "10488e2d",
   "metadata": {},
   "outputs": [],
   "source": [
    "def integrate_RK4(s_expr, a_expr, sdot_expr, dt, N_steps=1):\n",
    "    '''RK4 integrator.\n",
    "    \n",
    "    s_expr, a_expr: casadi expression that have been used to define the dynamics sdot_expr\n",
    "    sdot_expr:      casadi expr defining the rhs of the ode\n",
    "    dt:             integration interval\n",
    "    N_steps:        number of integration steps per integration interval, default:1\n",
    "    '''\n",
    "\n",
    "    h = dt/N_steps\n",
    "\n",
    "    s_end = s_expr\n",
    "\n",
    "    sdot_fun = Function('sdot', [s_expr, a_expr], [sdot_expr])\n",
    "\n",
    "    for _ in range(N_steps):\n",
    "\n",
    "        v_1 = sdot_fun(s_end, a_expr)\n",
    "        v_2 = sdot_fun(s_end + 0.5 * h * v_1, a_expr) \n",
    "        v_3 = sdot_fun(s_end + 0.5 * h * v_2, a_expr)\n",
    "        v_4 = sdot_fun(s_end + v_3 * h, a_expr)\n",
    "\n",
    "        s_end = s_end + (1/6) * (v_1 + 2 * v_2 + 2 * v_3 + v_4) * h\n",
    "    \n",
    "    F_expr = s_end\n",
    "\n",
    "    return F_expr"
   ]
  },
  {
   "cell_type": "markdown",
   "id": "dd95d6c9",
   "metadata": {},
   "source": [
    "We can now use this RK4 integrator to obtain a discrete time system describin the dynamics of the inverted pendulum dynamics."
   ]
  },
  {
   "cell_type": "code",
   "execution_count": 12,
   "id": "3ffd67da",
   "metadata": {},
   "outputs": [],
   "source": [
    "dt = 0.1    \n",
    "N_steps = 5\n",
    "\n",
    "F_discrete = Function('F_discrete', [s, tau], [integrate_RK4(s, tau, s_dot, dt, N_steps)])\n",
    "# s^+ = F_discrete(s, a)\n",
    "# a = tau"
   ]
  },
  {
   "cell_type": "code",
   "execution_count": 13,
   "id": "37716885",
   "metadata": {},
   "outputs": [
    {
     "data": {
      "text/plain": [
       "Function(F_discrete:(i0[2],i1)->(o0[2]) SXFunction)"
      ]
     },
     "execution_count": 13,
     "metadata": {},
     "output_type": "execute_result"
    }
   ],
   "source": [
    "F_discrete"
   ]
  },
  {
   "cell_type": "markdown",
   "id": "05fbbb15",
   "metadata": {},
   "source": [
    "### 1.4 Simulation\n",
    "\n",
    "Complete the following template to simulate the system forward in time starting from the initial state $s_0=(\\pi/2, 0)$ with constant input $a_k=0$, $ k=0, \\ldots, 200$.\n",
    "What do you observe?\n"
   ]
  },
  {
   "cell_type": "code",
   "execution_count": 14,
   "id": "8cc354d8",
   "metadata": {},
   "outputs": [],
   "source": [
    "N = 200\n",
    "\n",
    "# state and (constant) action trajectories\n",
    "s_traj  = np.zeros((n_s, N+1))\n",
    "a_traj  = 0.001*np.ones((n_a, N))\n",
    "\n",
    "# initial state\n",
    "s0 = np.array([np.pi/2, 0.])\n",
    "\n",
    "s_traj[:, 0]  = s0\n",
    "\n",
    "# forward simulation\n",
    "for n in range(N):\n",
    "    s0 = s_traj[:, n]\n",
    "    a0 = a_traj[:, n]\n",
    "    s_traj[:, [n+1]] = F_discrete(s0, a0).full()"
   ]
  },
  {
   "cell_type": "code",
   "execution_count": 15,
   "id": "e8896e48",
   "metadata": {},
   "outputs": [
    {
     "data": {
      "image/png": "[encoded data removed]",
      "text/plain": [
       "<Figure size 360x576 with 3 Axes>"
      ]
     },
     "metadata": {
      "needs_background": "light"
     },
     "output_type": "display_data"
    }
   ],
   "source": [
    "from plot_utils import plot_trajectories\n",
    "import matplotlib.pyplot as plt\n",
    "\n",
    "plot_trajectories(s_traj, a_traj, 'simulated')"
   ]
  }
 ],
 "metadata": {
  "interpreter": {
   "hash": "916dbcbb3f70747c44a77c7bcd40155683ae19c65e1c03b4aa3499c5328201f1"
  },
  "kernelspec": {
   "display_name": "Python 3 (ipykernel)",
   "language": "python",
   "name": "python3"
  },
  "language_info": {
   "codemirror_mode": {
    "name": "ipython",
    "version": 3
   },
   "file_extension": ".py",
   "mimetype": "text/x-python",
   "name": "python",
   "nbconvert_exporter": "python",
   "pygments_lexer": "ipython3",
   "version": "3.8.13"
  }
 },
 "nbformat": 4,
 "nbformat_minor": 5
}
